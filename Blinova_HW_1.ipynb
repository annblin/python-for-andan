{
 "cells": [
  {
   "cell_type": "markdown",
   "metadata": {
    "id": "l1-Eg5xwVSNh"
   },
   "source": [
    "# Домашнее задание 1\n",
    "## Анализ данных в Python (Социология)\n",
    "### Темы: типы данных, условный оператор, циклы и Pandas\n",
    "#### К каждой задаче напишите краткое объяснение того, то вы сделали, это будет влиять на оценку и таким образом показывать, что вы понимаете, что написали. Это может быть маленький комметарий в коде или пошаговое описание, можно написать в маркдауне. Если при проверке будет намек на использование нейросети, то у проверяющего есть возможность занизить оценку если прийти в лс к студенту и студент не сможет ответить на вопросы по задаче, поэтому пожалуйста выполняйте самостоятельно, это нужно в первую очередь для вас и вашего понимания курса. Не имеет смысла просто копировать ответ GPT не поняв как самому решать.\n",
    "#### P.S.: Гуглить нужную информацию очень приветствуется. Да, с помощью GPT тоже можно \"гуглить\", однако нужно понимать как это делать.\n",
    "#### P.P.S.: всего можно набрать 12 баллов, таким образом есть 2 дополнительных балла, максимум 10 баллов можно набрать, но если что-то не получается совсем, то перекрыть другими заданиями\n",
    "---\n",
    "\n",
    "### Сдать домашнее задание нужно 5.12.2024 в 23:59\n",
    "\n",
    "**Формат сдачи:** файл ipynb, название файла должно быть в виде: Фамилия_HW1.ipynb\n",
    "Если вы не успеваете сделать в дедлайн, то можно сдать задание позже, но со штрафом. Каждый день просрочки -1,33 балла.\n",
    "\n",
    "После 3 дней дедлайна ДЗ не принимается (сдать можно до 8.12.2024 23:59)\n"
   ]
  },
  {
   "cell_type": "markdown",
   "metadata": {
    "id": "ChB4zEoPVgR_"
   },
   "source": [
    "# Часть 1. Типы данных"
   ]
  },
  {
   "cell_type": "markdown",
   "metadata": {
    "id": "u_6h2CtlVk0B"
   },
   "source": [
    "## 1. Средний балл (списки) - 1 балл (по 0.2 за каждый пункт)\n",
    "\n",
    "Дан список `student = ['Иван Питонов', 2001, [8, 7, 7, 9, 6], True]`. Выполните пункты ниже. Все выводы должны быть в формате \"Средний балл студента: {средний балл}\"\n",
    "\n",
    "1. Выведите фамилию и имя Ивана в формате \"Студент: {Фамилия}, {Имя}\"\n",
    "2. Выведите возраст Ивана, если сейчас 2020 год.\n",
    "3. Напечатайте оценки Ивана через запятую.\n",
    "4. Найдите средний балл Ивана, если оценки хранятся в списке внутри. Сумму элементов списка можно найти с помощью функции sum(). Выведите средний балл.\n",
    "5. Если средняя оценка Ивана больше или равна 8, то он получает повышенную стипендию. Выведите True или False."
   ]
  },
  {
   "cell_type": "code",
   "execution_count": null,
   "metadata": {
    "id": "IOmH8JinU2h6"
   },
   "outputs": [
    {
     "name": "stdout",
     "output_type": "stream",
     "text": [
      "Студент: Питонов, Иван\n",
      "Возраст: 19\n",
      "Оценки: 8, 7, 7, 9, 6\n",
      "Средний балл: 7.40\n",
      "Получает повышенную стипендию: False.\n"
     ]
    }
   ],
   "source": [
    "student = ['Иван Питонов', 2001, [8, 7, 7, 9, 6], True]\n",
    "\n",
    "#выводим ФИ\n",
    "name, surname = student[0].split()\n",
    "print(f\"Студент: {surname}, {name}\")\n",
    "\n",
    "#выводим возраст Ивана, делая вид, что сейчас в мире всё хорошо: нет ни войн, ни ковида\n",
    "year = 2020\n",
    "birth_year = student[1]\n",
    "age = year - birth_year\n",
    "print(f\"Возраст: {age}\")\n",
    "\n",
    "#зачётка Ивана\n",
    "grades = student[2]\n",
    "grades_str = \", \".join(map(str, grades))\n",
    "print(f\"Оценки: {grades_str}\")\n",
    "\n",
    "#средний балл Ивана\n",
    "average_grade = sum(grades) / len(grades)\n",
    "print(f\"Средний балл: {average_grade:.2f}\")\n",
    "\n",
    "#повышенная стипендия\n",
    "print(f\"Получает повышенную стипендию: {average_grade >= 8}.\")\n",
    "\n"
   ]
  },
  {
   "cell_type": "markdown",
   "metadata": {},
   "source": [
    "## 2. Вложенные словари (0.25 балла)\n",
    "\n",
    "Вам дан словарь, содержащий в себе списки словарей. Напишите код, который выведет на экран 'разработчик' из списка ключа Windows в в первом словаре из списка 2."
   ]
  },
  {
   "cell_type": "code",
   "execution_count": 39,
   "metadata": {},
   "outputs": [
    {
     "name": "stdout",
     "output_type": "stream",
     "text": [
      "разработчик\n"
     ]
    }
   ],
   "source": [
    "dict_of_lists = {'Список1': [{'Python': 'язык программирования'}, {'R':'язык программирования', 'LaTEX' : 'язык верстки' }],\n",
    "                 'Список2' : [{'Windows' : ['операционная система', 'разработчик'], 'UNIX' : 'операционная система'},\n",
    "                              {'IBM': ['компания-производитель', 'разработчик'], 'IPv6' : 'интернет-протокол' }]}\n",
    "\n",
    "print(dict_of_lists['Список2'][0]['Windows'][1])"
   ]
  },
  {
   "cell_type": "markdown",
   "metadata": {},
   "source": [
    "## 3. Станция метро (0.25 балла)\n",
    "\n",
    "Дан список станций желтой ветки московского метро (упорядочены как на карте):\n",
    "\n",
    "`line = [\"Третьяковская\", \"Марксистская\", \"Площадь Ильича\", \"Авиамоторная\", \"Шоссе Энтузиастов\", \"Перово\", \"Новогиреево\", \"Новокосино\"]`\n",
    "\n",
    "Давайте считать, что движение происходит от Третьяковской до Новокосино.\n",
    "\n",
    "Напишите программу, которая запрашивает у пользователя название текущей станции метро (без лишнего пробела на конце) и выводит на экран сообщение вида\n",
    "\n",
    "    Следующая станция: станция.\n",
    "\n",
    "Считайте, что пользователь будет запрашивать станцию следующую после Новокосино, то будет выводиться сообщение: *Конечная, покиньте вагон\"\n",
    "\n",
    "Пример:\n",
    "\n",
    "Входные данные:\n",
    "\n",
    "    Введите текущую станцию: Площадь Ильича\n",
    "\n",
    "Выходные данные:\n",
    "\n",
    "    Следующая станция: Авиамоторная\n",
    "\n",
    "Подсказка:\n",
    "\n",
    "Чтобы вернуть индекс определенного элемента в списке, нужно воспользоваться методом .index().\n"
   ]
  },
  {
   "cell_type": "code",
   "execution_count": null,
   "metadata": {},
   "outputs": [
    {
     "name": "stdout",
     "output_type": "stream",
     "text": [
      "Станция не найдена. Введите корректную станцию\n"
     ]
    }
   ],
   "source": [
    "line = [\"Третьяковская\", \"Марксистская\", \"Площадь Ильича\", \"Авиамоторная\", \n",
    "        \"Шоссе Энтузиастов\", \"Перово\", \"Новогиреево\", \"Новокосино\"]\n",
    "current_station = input(\"Введите текущую станцию: \").strip()\n",
    "if current_station in line:\n",
    "    current_index = line.index(current_station)\n",
    "    if current_index < len(line) - 1:\n",
    "        next_station = line[current_index + 1]\n",
    "        print(f\"Следующая станция: {next_station}.\")\n",
    "    else:\n",
    "        print(\"Конечная, покиньте вагон.\")\n",
    "else:\n",
    "    print(\"Станция не найдена\")"
   ]
  },
  {
   "cell_type": "markdown",
   "metadata": {
    "id": "LSlYYzVyVnvy"
   },
   "source": [
    "## 3. Срезы списков (0.5 балла)\n",
    "\n",
    "Используя список `dwarves`, выведите на экран с помощью срезов следующие списки:\n",
    "\n",
    "    [\"Двалин\", \"Бифур\", \"Бофур\"]\n",
    "    [\"Балин\", \"Бифур\", \"Бомбур\", \"Глоин\", \"Нори\", \"Фили\", \"Торин\"]\n",
    "    [\"Оин\", \"Дори\", \"Ори\", \"Кили\"]\n",
    "    [\"Торин\", \"Фили\", \"Нори\", \"Глоин\"]\n",
    "    [\"Торин\"]"
   ]
  },
  {
   "cell_type": "code",
   "execution_count": 41,
   "metadata": {},
   "outputs": [],
   "source": [
    "dwarves = [\"Балин\", \"Двалин\", \"Бифур\", \"Бофур\", \n",
    "         \"Бомбур\", \"Оин\", \"Глоин\", \"Дори\", \"Нори\",\n",
    "         \"Ори\", \"Фили\", \"Кили\", \"Торин\"]"
   ]
  },
  {
   "cell_type": "code",
   "execution_count": 42,
   "metadata": {
    "id": "axpr3oK1Vrlu"
   },
   "outputs": [
    {
     "name": "stdout",
     "output_type": "stream",
     "text": [
      "['Двалин', 'Бифур', 'Бофур']\n",
      "['Балин', 'Бифур', 'Бомбур', 'Глоин', 'Нори', 'Фили', 'Торин']\n",
      "['Оин', 'Дори', 'Ори', 'Кили']\n",
      "['Торин', 'Фили', 'Нори', 'Глоин']\n",
      "['Торин']\n"
     ]
    }
   ],
   "source": [
    "print(dwarves[1:4])\n",
    "print(dwarves[::2])\n",
    "print(dwarves[5::2])\n",
    "print(dwarves[-1:-8:-2])\n",
    "print(dwarves[-1::])"
   ]
  },
  {
   "cell_type": "markdown",
   "metadata": {
    "id": "hAYp43v_V4gX"
   },
   "source": [
    "# Часть 2. Условный оператор и циклы"
   ]
  },
  {
   "cell_type": "markdown",
   "metadata": {
    "id": "Lji3i5HPWBCk"
   },
   "source": [
    "## 4. Развернуть число - 0.5 балл\n",
    "\n",
    "Вам на вход подается произвольное целое число. \"Разверните\" его, не используя преобразование к строке.\n",
    "\n",
    "Hint: нужно использовать операторы деления для получения остатка и целого числа, что мы с вами проходили.\n",
    "\n",
    "Пример:\n",
    "    \n",
    "    Вход: 12345890\n",
    "    Выход: 9854321"
   ]
  },
  {
   "cell_type": "code",
   "execution_count": 43,
   "metadata": {
    "id": "mgJF0fOeWD3C"
   },
   "outputs": [
    {
     "name": "stdout",
     "output_type": "stream",
     "text": [
      "Развернутое число: 3\n"
     ]
    }
   ],
   "source": [
    "def reverse_number(n):\n",
    "    reversed_number = 0\n",
    "    while n > 0:\n",
    "        last_digit = n % 10\n",
    "        reversed_number = reversed_number * 10 + last_digit\n",
    "        n //= 10\n",
    "    return reversed_number\n",
    "user_input = int(input(\"Введите целое число: \"))\n",
    "result = reverse_number(user_input)\n",
    "print(\"Развернутое число:\", result)"
   ]
  },
  {
   "cell_type": "markdown",
   "metadata": {
    "id": "eA1UBrJeWFdv"
   },
   "source": [
    "## 5. Треугольник - (0.5 балла)\n",
    "\n",
    "На вход принимается число N.\n",
    "\n",
    "Выведите на печать следующий паттерн:\n",
    "\n",
    "1\n",
    "\n",
    "1 2\n",
    "\n",
    "1 2 3\n",
    "\n",
    "1 2 3 4\n",
    "\n",
    "...\n",
    "\n",
    "1 ... N"
   ]
  },
  {
   "cell_type": "code",
   "execution_count": 2,
   "metadata": {
    "id": "1UT2P97_WH2I"
   },
   "outputs": [
    {
     "name": "stdout",
     "output_type": "stream",
     "text": [
      "\n",
      "1\n",
      "\n",
      "1 2\n",
      "\n",
      "1 2 3\n",
      "\n",
      "1 2 3 4\n",
      "\n",
      "1 2 3 4 5\n"
     ]
    }
   ],
   "source": [
    "N = int(input())\n",
    "\n",
    "for i in range(1, N + 1):\n",
    "    print()\n",
    "    print(' '.join(str(x) for x in range(1, i + 1)))"
   ]
  },
  {
   "cell_type": "markdown",
   "metadata": {},
   "source": [
    "## 6. Про Поросёнка Петра (0.5 балла)\n",
    "\n",
    "На плоскости в точке (0,0) стоит Поросёнок Пётр. Он умеет ходить налево, направо, вверх и вниз. Расстояние его прохода в какую-либо сторону измеряется в шагах. Когда он идет вправо, его первая координата увеличивается, когда влево - уменьшается. Когда он идет вверх, его вторая координата увеличивается, а когда вниз - уменьшается. \n",
    "\n",
    "С клавиатуры считывается число N - число ходов, которые сделает Пётр. После чего на каждом шаге спрашивается, сколько шагов и в какую сторону за этот ход Пётр сделает. Так происходит, пока Пётр не осуществит все N ходов.\n",
    "\n",
    "Программа должна вывести, сколько шагов Пётр должен был бы сделать, чтобы кратчайшим путем прибыть из свое начальной точки (0,0) в свою конечную точку. Напоминание: Пётр умеет ходить только вверх-вниз, и влево-вправо, но не по диагонали.\n",
    "\n",
    "Пример ввода: \n",
    "\n",
    "    Введите N: 3\n",
    "    Ход 1: Вверх 1\n",
    "    Ход 2: Вниз 1\n",
    "    Ход 3: Вверх 1\n",
    "    \n",
    "Пример вывода:\n",
    "\n",
    "    Пётр находится на расстоянии 1 от (0,0)"
   ]
  },
  {
   "cell_type": "code",
   "execution_count": null,
   "metadata": {},
   "outputs": [
    {
     "name": "stdout",
     "output_type": "stream",
     "text": [
      "Пётр находится на расстоянии 8 от (0,0)\n"
     ]
    }
   ],
   "source": [
    "n = int(input(\"Введите N: \"))\n",
    "current_pos = (0, 0)\n",
    "\n",
    "movement_map = {\n",
    "    \"Вверх\":  (0, 1),\n",
    "    \"Вниз\":   (0, -1),\n",
    "    \"Влево\":  (-1, 0),\n",
    "    \"Вправо\": (1, 0),\n",
    "}\n",
    "\n",
    "for i in range(1, n + 1):\n",
    "    move_input = input(f\"Ход {i}: \").strip().split()\n",
    "    \n",
    "    if len(move_input) != 2:\n",
    "        print(\"Ошибка: ввод должен содержать направление и количество шагов\")\n",
    "        continue\n",
    "    \n",
    "    direction, distance_str = move_input\n",
    "    try:\n",
    "        distance = int(distance_str)\n",
    "    except ValueError:\n",
    "        print(\"Ошибка: количество шагов должно быть целым числом\")\n",
    "        continue\n",
    "    \n",
    "    if direction in movement_map:\n",
    "        dx, dy = movement_map[direction]\n",
    "        current_pos = (current_pos[0] + dx * distance, current_pos[1] + dy * distance)\n",
    "    else:\n",
    "        print(\"Ошибка: направление должно быть 'Вверх', 'Вниз', 'Влево' или 'Вправо'\")\n",
    "\n",
    "distance_from_origin = abs(current_pos[0]) + abs(current_pos[1])\n",
    "print(f\"Пётр находится на расстоянии {distance_from_origin} от (0,0)\")"
   ]
  },
  {
   "cell_type": "markdown",
   "metadata": {},
   "source": [
    "## 7. Объединение словарей (1 балл)\n",
    "\n",
    "Напишите программу, которая подсчитывает значения из произвольного списка словарей следующего вида.\n",
    "\n",
    "Ввод:\n",
    "\n",
    "    shops = [{'товар': 'яблоки', 'количество': 400}, {'товар': 'конфеты', 'количество': 300}, {'товар': 'яблоки', 'количество': 750}]\n",
    "\n",
    "\n",
    "Вывод:\n",
    "\n",
    "    {'яблоки': 1150, 'конфеты': 300}"
   ]
  },
  {
   "cell_type": "code",
   "execution_count": null,
   "metadata": {},
   "outputs": [
    {
     "name": "stdout",
     "output_type": "stream",
     "text": [
      "{'яблоки': 1150, 'конфеты': 300}\n"
     ]
    }
   ],
   "source": [
    "shops = [{'товар': 'яблоки', 'количество': 400},\n",
    "         {'товар': 'конфеты', 'количество': 300}, \n",
    "         {'товар': 'яблоки', 'количество': 750}]\n",
    "\n",
    "result = {}\n",
    "for shop in shops:\n",
    "    name, count = shop['товар'], shop['количество']\n",
    "    result[name] = result.get(name, 0) + count\n",
    "print(result)"
   ]
  },
  {
   "cell_type": "markdown",
   "metadata": {
    "id": "LTBxBtlAWJkm"
   },
   "source": [
    "# Часть 3. Pandas (5.5 балла)"
   ]
  },
  {
   "cell_type": "code",
   "execution_count": 3,
   "metadata": {
    "id": "Fy6lVcSGWNQl"
   },
   "outputs": [],
   "source": [
    "import pandas as pd\n",
    "%matplotlib inline\n",
    "import matplotlib.pyplot as plt"
   ]
  },
  {
   "cell_type": "markdown",
   "metadata": {
    "id": "8LP_AqcIXgpa"
   },
   "source": [
    "## Часть 1. Разминка 1 балл (по 0.2 за каждый пункт)"
   ]
  },
  {
   "cell_type": "code",
   "execution_count": 4,
   "metadata": {
    "id": "b5rmUJHAXl7p"
   },
   "outputs": [],
   "source": [
    "babies = pd.read_csv('https://raw.githubusercontent.com/pileyan/Data/master/data/babies%20names/babies_all.txt', index_col=0)"
   ]
  },
  {
   "cell_type": "markdown",
   "metadata": {
    "id": "XeBrkM4MXjpq"
   },
   "source": [
    "Исследуйте набор данных babies. Ответьте на вопросы.\n",
    "\n",
    "1) Какие годы включает датасет (можно использовать unique())\n",
    "\n",
    "2) Какое имя в датасете находится по индексом 121?\n",
    "\n",
    "3) Cколько всего родилось детей по имени 'Aaron' за все время? Сколько в датасете девочек по имени John?\n",
    "\n",
    "4) Насколько больше за все время родилось мальчиков чем девочек?\n",
    "\n",
    "5) Cколько мальчиков родилось в 2010?"
   ]
  },
  {
   "cell_type": "code",
   "execution_count": 5,
   "metadata": {
    "id": "QpVc7MjAX0Fv"
   },
   "outputs": [
    {
     "name": "stdout",
     "output_type": "stream",
     "text": [
      "Года в базе данных: [1880 1881 1882 1883 1884 1885 1886 1887 1888 1889 1890 1891 1892 1893\n",
      " 1894 1895 1896 1897 1898 1899 1900 1901 1902 1903 1904 1905 1906 1907\n",
      " 1908 1909 1910 1911 1912 1913 1914 1915 1916 1917 1918 1919 1920 1921\n",
      " 1922 1923 1924 1925 1926 1927 1928 1929 1930 1931 1932 1933 1934 1935\n",
      " 1936 1937 1938 1939 1940 1941 1942 1943 1944 1945 1946 1947 1948 1949\n",
      " 1950 1951 1952 1953 1954 1955 1956 1957 1958 1959 1960 1961 1962 1963\n",
      " 1964 1965 1966 1967 1968 1969 1970 1971 1972 1973 1974 1975 1976 1977\n",
      " 1978 1979 1980 1981 1982 1983 1984 1985 1986 1987 1988 1989 1990 1991\n",
      " 1992 1993 1994 1995 1996 1997 1998 1999 2000 2001 2002 2003 2004 2005\n",
      " 2006 2007 2008 2009 2010]\n",
      "Имя по индексу 121: Ann\n",
      "Число детей по имени 'Aaron': 212\n",
      "Число девочек по имени 'John': 131\n",
      "Преобладание мальчиков над девочками: -317186\n",
      "Сколько мальчиков родилось в 2010 году: 14140\n"
     ]
    }
   ],
   "source": [
    "babies.head()\n",
    "# годы в датасете\n",
    "years = babies['year'].unique()\n",
    "print(\"Года в базе данных:\", years)\n",
    "\n",
    "# имя по индексу 121\n",
    "number_baby = babies.iloc[121]\n",
    "print(f\"Имя по индексу 121: {number_baby['name']}\")\n",
    "\n",
    "# аароны и джоны\n",
    "aarons = len(babies[babies['name'] == 'Aaron'])\n",
    "girls_john = len(babies[(babies['name'] == 'John') & (babies['sex'] == 'F')])\n",
    "print(f\"Число детей по имени 'Aaron': {aarons}\")\n",
    "print(f\"Число девочек по имени 'John': {girls_john}\") \n",
    "\n",
    "# гендерный баланс\n",
    "gndr = babies['sex'].value_counts()\n",
    "boys = gndr.get('M', 0)\n",
    "girls = gndr.get('F', 0)\n",
    "sex_difference = boys - girls\n",
    "print(f\"Преобладание мальчиков над девочками: {sex_difference}\")\n",
    "\n",
    "# мальчики в 2010\n",
    "boys_2010 = babies.groupby(['year', 'sex']).size().loc[(2010, 'M')]\n",
    "print(f\"Сколько мальчиков родилось в 2010 году: {boys_2010}\")"
   ]
  },
  {
   "cell_type": "markdown",
   "metadata": {
    "id": "mFAI7IzsXZxK"
   },
   "source": [
    "## Часть 2. Учимся анализировать"
   ]
  },
  {
   "cell_type": "markdown",
   "metadata": {},
   "source": [
    "# Данные\n",
    "\n",
    "Этот набор данных содержит информацию о бронировании номеров в отеле - когда было сделано бронирование, на сколько дней, количество взрослых, детей, младенцев, требуемые парковочные места и т.д.\n",
    "\n",
    "Все персональные данные были удалены из этих данных.\n",
    "\n",
    "Источник данных: эти данные получены из статьи \"Hotel Booking Demand Datasets\", написанной авторами Nuno Antonio, Ana Almeida и Luis Nunes для журнала Data in Brief, том 22, февраль 2019\".\n",
    "\n",
    "\n",
    "----------------------------\n",
    "\n",
    "#### Замечание: имена, адреса email, номера телефонов и номера кредитных карт являются вымышленными. Данные о бронировании являются настоящими из статьи выше.\n",
    "\n",
    "## <div style=\"text-align: center\">Описание колонок</div>"
   ]
  },
  {
   "cell_type": "markdown",
   "metadata": {},
   "source": [
    "<table><thead><tr class=\"rowsep-1\"><th scope=\"col\"><strong>Переменная</strong></th><th scope=\"col\"><strong>Тип</strong></th><th scope=\"col\"><strong>Описание</strong></th><th scope=\"col\"><strong>Источник/Обработка данных</strong></th></tr></thead><tbody>\n",
    "\n",
    "<tr><th scope=\"row\"><em>ADR</em></th><td>Numeric</td><td>Средняя цена за сутки (см. <a name=\"bbib5\" href=\"#bib5\" class=\"workspace-trigger\">[5]</a>)</td><td>BO, BL и TR / Вычисляется как сумма всех транзакций, делённая на количество суток (ночей)</td></tr>\n",
    "\n",
    "<tr><th scope=\"row\"><em>Adults</em></th><td>Integer</td><td>Количество взрослых</td><td>BO и BL</td></tr>     \n",
    "\n",
    "<tr><th scope=\"row\"><em>Agent</em></th><td>Categorical</td><td>Идентификатор туристического агентства, сделавшего бронирование<a name=\"btbl1fna\" href=\"#tbl1fna\" class=\"workspace-trigger\"><sup>a</sup></a></td><td>BO и BL</td></tr>     \n",
    "\n",
    "<tr><th scope=\"row\"><em>ArrivalDateDayOfMonth</em></th><td>Integer</td><td>Дата заезда - день месяца</td><td>BO и BL</td></tr>     \n",
    "\n",
    "<tr><th scope=\"row\"><em>ArrivalDateMonth</em></th><td>Categorical</td><td>Дата заезда - месяц, 12 категорий: “January” - “December”</td><td>BO и BL</td></tr>     \n",
    "\n",
    "<tr><th scope=\"row\"><em>ArrivalDateWeekNumber</em></th><td>Integer</td><td>Дата заезда - номер недели</td><td>BO и BL</td></tr>     \n",
    "\n",
    "<tr><th scope=\"row\"><em>ArrivalDateYear</em></th><td>Integer</td><td>Дата заезда - год</td><td>BO и BL</td></tr>     \n",
    "\n",
    "<tr><th scope=\"row\"><em>AssignedRoomType</em></th><td>Categorical</td><td>Тип номера, который был сдан по факту. Иногда может отличаться от забронированного типа номера из-за операционных причин (например, забронировано больше номеров, чем есть по факту) или по запросу Клиента. Для соблюдения анонимности, вместо смыслового названия применяются коды типов номеров</td><td>BO и BL</td></tr>     \n",
    "\n",
    "<tr><th scope=\"row\"><em>Babies</em></th><td>Integer</td><td>Количество младенцев</td><td>BO и BL</td></tr>     \n",
    "\n",
    "<tr><th scope=\"row\"><em>BookingChanges</em></th><td>Integer</td><td>Количество изменений/уточнений, внесённых в бронирование с момента его создания в системе PMS до момента заезда Клиента или отмены бронирования</td><td>BO and BL/Вычисляется как кочество раз, когда менялись какие-либо атрибуты бронирования, а именно: люди, дата заезда, количество суток, тип номера или тип питания</td></tr>     \n",
    "\n",
    "<tr><th scope=\"row\"><em>Children</em></th><td>Integer</td><td>Количество детей</td><td>BO and BL/Количество детей - как тех, за которых было заплачено, так и гостящих бесплатно</td></tr>     \n",
    "\n",
    "<tr><th scope=\"row\"><em>Company</em></th><td>Categorical</td><td>Идентификатор компании, сделавшей бронирование или ответственной за оплату номера. Для соблюдения анонимности, вместо названия компании применяются идентификаторы</td><td>BO и BL.</td></tr>     \n",
    "\n",
    "<tr><th scope=\"row\"><em>Country</em></th><td>Categorical</td><td>Страна происхождения. Различные значения представлены в формате ISO 3155–3:2013<a name=\"bbib6\" href=\"#bib6\" class=\"workspace-trigger\">[6]</a></td><td>BO, BL и NT</td></tr>     \n",
    "\n",
    "<tr><th scope=\"row\"><br></th><td><br></td><td><br></td><td><br></td></tr>     \n",
    "\n",
    "<tr><th scope=\"row\" rowspan=\"5\"><em>CustomerType</em></th><td rowspan=\"5\">Categorical</td><td>Тип бронирования, одна из четырёх категорий:</td><td rowspan=\"5\">BO и BL</td></tr>     \n",
    "<tr><td>Contract - по контракту;</td></tr>     \n",
    "<tr><td>Group – бронирование в составе группы;</td></tr>     \n",
    "<tr><td>Transient – когда бронирование не относится к контракту или группе, и не связано с другим transient-бронированием; в этой категории относятся бронирования, выполненные накануне или даже в последний момент, а также когда человек просто зашёл в отель с улицы и попросил номер</td></tr>     \n",
    "<tr><td>Transient-party – когда бронирование относится к категории transient, но связано хотя бы одним другим transient-бронированием</td></tr>     \n",
    "\n",
    "<tr><th scope=\"row\"><em>DaysInWaitingList</em></th><td>Integer</td><td>Количество дней, в течении которых бронирование было в списке ожидания перед тем, как отправить подтверждение бронирования Клиенту</td><td>BO/Вычисляется как разница между датой подтверждения и датой создания бронирования в системе PMS</td></tr>     \n",
    "\n",
    "<tr><th scope=\"row\"><br></th><td><br></td><td><br></td><td><br></td></tr>     \n",
    "\n",
    "<tr><th scope=\"row\" rowspan=\"7\"><em>DepositType</em></th><td rowspan=\"7\">Categorical</td><td>Вносил ли Клиент предоплату для гарантии бронирования. Может принимать три значения:</td>\n",
    "<td rowspan=\"2\">BO and TR/Вычисляется на основе платежей в таблице transaction (TR), выполненных до даты заезда или отмены бронирования.</td></tr>     \n",
    "<tr><td rowspan=\"3\">No Deposit – предоплаты не было;</td></tr>     \n",
    "<tr><td>Если платежи не было найдены, то значение “No Deposit”.</td></tr>     \n",
    "<tr><td rowspan=\"2\">Если платёж равен или превышает сумму бронирования, то значение “Non Refund”.</td></tr>     <tr><td rowspan=\"2\">Non Refund – предоплата была равна полной сумме бронирования;</td></tr>     \n",
    "<tr><td rowspan=\"2\">В остальных случаях - значение “Refundable”</td></tr>     <tr><td>Refundable – платёж был меньше суммы бронирования.</td></tr>     \n",
    "\n",
    "<tr><th scope=\"row\"><em>DistributionChannel</em></th><td>Categorical</td><td>Канал распространения бронирования. Значение “TA” означает “Travel Agents”, а “TO” - \"Tour Operators”</td><td>BO, BL и DC</td></tr>     \n",
    "\n",
    "<tr><th scope=\"row\"><em>IsCanceled</em></th><td>Categorical</td><td>Было ли бронирование отменено (1) или нет (0)</td><td>BO</td></tr>     \n",
    "\n",
    "<tr><th scope=\"row\"><em>IsRepeatedGuest</em></th><td>Categorical</td><td>Был ли этот Клиент в отеле раньше (1) или нет (0)</td><td>BO, BL and C/ Сверяем профиль Клиента и Клиента в бронировании. Если соответствие нашлось, и если дата создания профиля Клиента меньше даты создания бронирования в системе PMS, то считаем, что это повторный Клиент</td></tr>     \n",
    "\n",
    "<tr><th scope=\"row\"><em>LeadTime</em></th><td>Integer</td><td>Количество дней между датой внесения бронирования в систему PMS и датой заезда</td><td>BO and BL/ Разница между датой внесения бронирования и датой заезда</td></tr>     \n",
    "\n",
    "<tr><th scope=\"row\"><em>MarketSegment</em></th><td>Categorical</td><td>Сегмент рынка. Значение “TA” означает “Travel Agents”, а “TO” - “Tour Operators”</td><td>BO, BL и MS</td></tr>     \n",
    "\n",
    "<tr><th scope=\"row\"><br></th><td><br></td><td><br></td><td><br></td></tr>     \n",
    "\n",
    "<tr><th scope=\"row\" rowspan=\"5\"><em>Meal</em></th><td rowspan=\"5\">Categorical</td><td>Тип питания. Категории представлены стандартными для отелей пакетами питания:</td><td rowspan=\"5\">BO, BL и ML</td></tr>     <tr><td>Undefined/SC – no meal package;</td></tr>     \n",
    "<tr><td>BB – Bed &amp; Breakfast;</td></tr>     \n",
    "<tr><td>HB – Half board (завтрак и ещё одно питание, обычно ужин);\n",
    "</td></tr>     \n",
    "<tr><td>FB – Full board (завтрак, обед и ужин)</td></tr>     \n",
    "\n",
    "<tr><th scope=\"row\"><em>PreviousBookingsNotCanceled</em></th><td>Integer</td><td>Количество предыдущих бронирований, которые не были отменены этим Клиентом перед текущим бронированием</td><td>BO and BL / Если профиль Клиента не был найден, то значение 0. Иначе, количество бронирований с тем же профилем, созданных перед текущим бронированием и не отменённых..</td></tr>     \n",
    "\n",
    "<tr><th scope=\"row\"><em>PreviousCancellations</em></th><td>Integer</td><td>Количество предыдущих бронирований, которые были отменены этим Клиентом перед текущим бронированием</td><td>BO and BL/ Если профиль Клиента не был найден, то значение 0. Иначе, количество бронирований с тем же профилем, созданных перед текущим бронированием и отменённых.</td></tr>     \n",
    "\n",
    "<tr><th scope=\"row\"><em>RequiredCardParkingSpaces</em></th><td>Integer</td><td>Количество парковочных мест, которые требуются Клиенту</td><td>BO и BL</td></tr>     \n",
    "\n",
    "<tr><th scope=\"row\"><br></th><td><br></td><td><br></td><td><br></td></tr>     \n",
    "\n",
    "<tr><th scope=\"row\" rowspan=\"4\"><em>ReservationStatus</em></th><td rowspan=\"4\">Categorical</td><td>Последний статус резервирования. Одно из трёх значений:</td>\n",
    "<td rowspan=\"4\">BO</td></tr>     <tr><td>Canceled – бронирование было отменено Клиентом;</td></tr>     \n",
    "<tr><td>Check-Out – Клиент заехал в отель, но уже выехал;</td></tr>     \n",
    "<tr><td>No-Show – Клиент не заехал в отель, и не сообщил почему</td></tr>     \n",
    "\n",
    "<tr><th scope=\"row\"><em>ReservationStatusDate</em></th><td>Date</td><td>Дата, когда было записано последнее изменение статуса. Используется вместе со значением <em>ReservationStatus</em> для того, чтобы понять, было ли бронирование отменено, или же Клиент выписался из отела</td><td>BO</td></tr>     \n",
    "\n",
    "<tr><th scope=\"row\"><em>ReservedRoomType</em></th><td>Categorical</td><td>Тип забронированного номера. Для соблюдения анонимности, вместо смыслового названия применяются коды типов номеров</td><td>BO и BL</td></tr>     \n",
    "\n",
    "<tr><th scope=\"row\"><em>StaysInWeekendNights</em></th><td>Integer</td><td>Количество суток (ночей) на выходных - суббота или воскресенье, которые Клиент забронировал или по факту гостил</td><td>BO и BL/Количество ночей в выходные из общего количества ночей </td></tr>     \n",
    "\n",
    "<tr><th scope=\"row\"><em>StaysInWeekNights</em></th><td>Integer</td><td>Количество суток (ночей) в будни - с понедельника по пятницу, которые Клиент забронировал или по факту гостил</td><td>BO и BL/Количество ночей в будни из общего количества ночей</td></tr>     \n",
    "\n",
    "<tr><th scope=\"row\"><em>TotalOfSpecialRequests</em></th><td>Integer</td><td>Количество специальных запросов, которые отправил Клиент (например, две отдельные кровати или высокий этаж)</td><td>BO и BL/Количество всех специальных запросов</td></tr></tbody></table>\n"
   ]
  },
  {
   "cell_type": "markdown",
   "metadata": {},
   "source": [
    "# ЗАДАНИЯ (4.5 балла)\n",
    "\n",
    "**Выполните задания, указанные жирным шрифтом. Ожидаемый результат приведён ниже в ячейках.**\n",
    "\n",
    "**Пожалуйста не запускайте ячейку непосредственно над ожидаемым результатом - это приведёт к потере этого результата.**  \n",
    "\n",
    "**Постарайтесь решить каждое из заданий с помощью одной строки кода в pandas (не каждое задание можно решить одной строкой кода, но многие можно!).**  \n",
    " \n",
    "**Замечание: многие задачи можно решить разными способами!**"
   ]
  },
  {
   "cell_type": "code",
   "execution_count": 9,
   "metadata": {},
   "outputs": [
    {
     "name": "stdout",
     "output_type": "stream",
     "text": [
      "c:\\Users\\User\\Desktop\\хсе\\python\n"
     ]
    }
   ],
   "source": [
    "import pandas as pd\n",
    "import os\n",
    "print(os.getcwd())"
   ]
  },
  {
   "cell_type": "code",
   "execution_count": 12,
   "metadata": {},
   "outputs": [],
   "source": [
    "hotels = pd.read_csv(r\"c:\\Users\\User\\Desktop\\хсе\\python\\hotel_booking_data.csv\")"
   ]
  },
  {
   "cell_type": "code",
   "execution_count": null,
   "metadata": {},
   "outputs": [
    {
     "data": {
      "text/html": [
       "<div>\n",
       "<style scoped>\n",
       "    .dataframe tbody tr th:only-of-type {\n",
       "        vertical-align: middle;\n",
       "    }\n",
       "\n",
       "    .dataframe tbody tr th {\n",
       "        vertical-align: top;\n",
       "    }\n",
       "\n",
       "    .dataframe thead th {\n",
       "        text-align: right;\n",
       "    }\n",
       "</style>\n",
       "<table border=\"1\" class=\"dataframe\">\n",
       "  <thead>\n",
       "    <tr style=\"text-align: right;\">\n",
       "      <th></th>\n",
       "      <th>hotel</th>\n",
       "      <th>is_canceled</th>\n",
       "      <th>lead_time</th>\n",
       "      <th>arrival_date_year</th>\n",
       "      <th>arrival_date_month</th>\n",
       "      <th>arrival_date_week_number</th>\n",
       "      <th>arrival_date_day_of_month</th>\n",
       "      <th>stays_in_weekend_nights</th>\n",
       "      <th>stays_in_week_nights</th>\n",
       "      <th>adults</th>\n",
       "      <th>...</th>\n",
       "      <th>customer_type</th>\n",
       "      <th>adr</th>\n",
       "      <th>required_car_parking_spaces</th>\n",
       "      <th>total_of_special_requests</th>\n",
       "      <th>reservation_status</th>\n",
       "      <th>reservation_status_date</th>\n",
       "      <th>name</th>\n",
       "      <th>email</th>\n",
       "      <th>phone-number</th>\n",
       "      <th>credit_card</th>\n",
       "    </tr>\n",
       "  </thead>\n",
       "  <tbody>\n",
       "    <tr>\n",
       "      <th>0</th>\n",
       "      <td>Resort Hotel</td>\n",
       "      <td>0</td>\n",
       "      <td>342</td>\n",
       "      <td>2015</td>\n",
       "      <td>July</td>\n",
       "      <td>27</td>\n",
       "      <td>1</td>\n",
       "      <td>0</td>\n",
       "      <td>0</td>\n",
       "      <td>2</td>\n",
       "      <td>...</td>\n",
       "      <td>Transient</td>\n",
       "      <td>0.0</td>\n",
       "      <td>0</td>\n",
       "      <td>0</td>\n",
       "      <td>Check-Out</td>\n",
       "      <td>2015-07-01</td>\n",
       "      <td>Ernest Barnes</td>\n",
       "      <td>Ernest.Barnes31@outlook.com</td>\n",
       "      <td>669-792-1661</td>\n",
       "      <td>************4322</td>\n",
       "    </tr>\n",
       "    <tr>\n",
       "      <th>1</th>\n",
       "      <td>Resort Hotel</td>\n",
       "      <td>0</td>\n",
       "      <td>737</td>\n",
       "      <td>2015</td>\n",
       "      <td>July</td>\n",
       "      <td>27</td>\n",
       "      <td>1</td>\n",
       "      <td>0</td>\n",
       "      <td>0</td>\n",
       "      <td>2</td>\n",
       "      <td>...</td>\n",
       "      <td>Transient</td>\n",
       "      <td>0.0</td>\n",
       "      <td>0</td>\n",
       "      <td>0</td>\n",
       "      <td>Check-Out</td>\n",
       "      <td>2015-07-01</td>\n",
       "      <td>Andrea Baker</td>\n",
       "      <td>Andrea_Baker94@aol.com</td>\n",
       "      <td>858-637-6955</td>\n",
       "      <td>************9157</td>\n",
       "    </tr>\n",
       "    <tr>\n",
       "      <th>2</th>\n",
       "      <td>Resort Hotel</td>\n",
       "      <td>0</td>\n",
       "      <td>7</td>\n",
       "      <td>2015</td>\n",
       "      <td>July</td>\n",
       "      <td>27</td>\n",
       "      <td>1</td>\n",
       "      <td>0</td>\n",
       "      <td>1</td>\n",
       "      <td>1</td>\n",
       "      <td>...</td>\n",
       "      <td>Transient</td>\n",
       "      <td>75.0</td>\n",
       "      <td>0</td>\n",
       "      <td>0</td>\n",
       "      <td>Check-Out</td>\n",
       "      <td>2015-07-02</td>\n",
       "      <td>Rebecca Parker</td>\n",
       "      <td>Rebecca_Parker@comcast.net</td>\n",
       "      <td>652-885-2745</td>\n",
       "      <td>************3734</td>\n",
       "    </tr>\n",
       "    <tr>\n",
       "      <th>3</th>\n",
       "      <td>Resort Hotel</td>\n",
       "      <td>0</td>\n",
       "      <td>13</td>\n",
       "      <td>2015</td>\n",
       "      <td>July</td>\n",
       "      <td>27</td>\n",
       "      <td>1</td>\n",
       "      <td>0</td>\n",
       "      <td>1</td>\n",
       "      <td>1</td>\n",
       "      <td>...</td>\n",
       "      <td>Transient</td>\n",
       "      <td>75.0</td>\n",
       "      <td>0</td>\n",
       "      <td>0</td>\n",
       "      <td>Check-Out</td>\n",
       "      <td>2015-07-02</td>\n",
       "      <td>Laura Murray</td>\n",
       "      <td>Laura_M@gmail.com</td>\n",
       "      <td>364-656-8427</td>\n",
       "      <td>************5677</td>\n",
       "    </tr>\n",
       "    <tr>\n",
       "      <th>4</th>\n",
       "      <td>Resort Hotel</td>\n",
       "      <td>0</td>\n",
       "      <td>14</td>\n",
       "      <td>2015</td>\n",
       "      <td>July</td>\n",
       "      <td>27</td>\n",
       "      <td>1</td>\n",
       "      <td>0</td>\n",
       "      <td>2</td>\n",
       "      <td>2</td>\n",
       "      <td>...</td>\n",
       "      <td>Transient</td>\n",
       "      <td>98.0</td>\n",
       "      <td>0</td>\n",
       "      <td>1</td>\n",
       "      <td>Check-Out</td>\n",
       "      <td>2015-07-03</td>\n",
       "      <td>Linda Hines</td>\n",
       "      <td>LHines@verizon.com</td>\n",
       "      <td>713-226-5883</td>\n",
       "      <td>************5498</td>\n",
       "    </tr>\n",
       "  </tbody>\n",
       "</table>\n",
       "<p>5 rows × 36 columns</p>\n",
       "</div>"
      ],
      "text/plain": [
       "          hotel  is_canceled  lead_time  arrival_date_year arrival_date_month  \\\n",
       "0  Resort Hotel            0        342               2015               July   \n",
       "1  Resort Hotel            0        737               2015               July   \n",
       "2  Resort Hotel            0          7               2015               July   \n",
       "3  Resort Hotel            0         13               2015               July   \n",
       "4  Resort Hotel            0         14               2015               July   \n",
       "\n",
       "   arrival_date_week_number  arrival_date_day_of_month  \\\n",
       "0                        27                          1   \n",
       "1                        27                          1   \n",
       "2                        27                          1   \n",
       "3                        27                          1   \n",
       "4                        27                          1   \n",
       "\n",
       "   stays_in_weekend_nights  stays_in_week_nights  adults  ...  customer_type  \\\n",
       "0                        0                     0       2  ...      Transient   \n",
       "1                        0                     0       2  ...      Transient   \n",
       "2                        0                     1       1  ...      Transient   \n",
       "3                        0                     1       1  ...      Transient   \n",
       "4                        0                     2       2  ...      Transient   \n",
       "\n",
       "    adr required_car_parking_spaces total_of_special_requests  \\\n",
       "0   0.0                           0                         0   \n",
       "1   0.0                           0                         0   \n",
       "2  75.0                           0                         0   \n",
       "3  75.0                           0                         0   \n",
       "4  98.0                           0                         1   \n",
       "\n",
       "  reservation_status reservation_status_date            name  \\\n",
       "0          Check-Out              2015-07-01   Ernest Barnes   \n",
       "1          Check-Out              2015-07-01    Andrea Baker   \n",
       "2          Check-Out              2015-07-02  Rebecca Parker   \n",
       "3          Check-Out              2015-07-02    Laura Murray   \n",
       "4          Check-Out              2015-07-03     Linda Hines   \n",
       "\n",
       "                         email  phone-number       credit_card  \n",
       "0  Ernest.Barnes31@outlook.com  669-792-1661  ************4322  \n",
       "1       Andrea_Baker94@aol.com  858-637-6955  ************9157  \n",
       "2   Rebecca_Parker@comcast.net  652-885-2745  ************3734  \n",
       "3            Laura_M@gmail.com  364-656-8427  ************5677  \n",
       "4           LHines@verizon.com  713-226-5883  ************5498  \n",
       "\n",
       "[5 rows x 36 columns]"
      ]
     },
     "metadata": {},
     "output_type": "display_data"
    }
   ],
   "source": [
    "hotels.head()"
   ]
  },
  {
   "cell_type": "code",
   "execution_count": 13,
   "metadata": {},
   "outputs": [
    {
     "name": "stdout",
     "output_type": "stream",
     "text": [
      "<class 'pandas.core.frame.DataFrame'>\n",
      "RangeIndex: 119390 entries, 0 to 119389\n",
      "Data columns (total 36 columns):\n",
      " #   Column                          Non-Null Count   Dtype  \n",
      "---  ------                          --------------   -----  \n",
      " 0   hotel                           119390 non-null  object \n",
      " 1   is_canceled                     119390 non-null  int64  \n",
      " 2   lead_time                       119390 non-null  int64  \n",
      " 3   arrival_date_year               119390 non-null  int64  \n",
      " 4   arrival_date_month              119390 non-null  object \n",
      " 5   arrival_date_week_number        119390 non-null  int64  \n",
      " 6   arrival_date_day_of_month       119390 non-null  int64  \n",
      " 7   stays_in_weekend_nights         119390 non-null  int64  \n",
      " 8   stays_in_week_nights            119390 non-null  int64  \n",
      " 9   adults                          119390 non-null  int64  \n",
      " 10  children                        119386 non-null  float64\n",
      " 11  babies                          119390 non-null  int64  \n",
      " 12  meal                            119390 non-null  object \n",
      " 13  country                         118902 non-null  object \n",
      " 14  market_segment                  119390 non-null  object \n",
      " 15  distribution_channel            119390 non-null  object \n",
      " 16  is_repeated_guest               119390 non-null  int64  \n",
      " 17  previous_cancellations          119390 non-null  int64  \n",
      " 18  previous_bookings_not_canceled  119390 non-null  int64  \n",
      " 19  reserved_room_type              119390 non-null  object \n",
      " 20  assigned_room_type              119390 non-null  object \n",
      " 21  booking_changes                 119390 non-null  int64  \n",
      " 22  deposit_type                    119390 non-null  object \n",
      " 23  agent                           103050 non-null  float64\n",
      " 24  company                         6797 non-null    float64\n",
      " 25  days_in_waiting_list            119390 non-null  int64  \n",
      " 26  customer_type                   119390 non-null  object \n",
      " 27  adr                             119390 non-null  float64\n",
      " 28  required_car_parking_spaces     119390 non-null  int64  \n",
      " 29  total_of_special_requests       119390 non-null  int64  \n",
      " 30  reservation_status              119390 non-null  object \n",
      " 31  reservation_status_date         119390 non-null  object \n",
      " 32  name                            119390 non-null  object \n",
      " 33  email                           119390 non-null  object \n",
      " 34  phone-number                    119390 non-null  object \n",
      " 35  credit_card                     119390 non-null  object \n",
      "dtypes: float64(4), int64(16), object(16)\n",
      "memory usage: 32.8+ MB\n"
     ]
    }
   ],
   "source": [
    "hotels.info()"
   ]
  },
  {
   "cell_type": "markdown",
   "metadata": {},
   "source": [
    "---\n",
    "**ЗАДАНИЕ: Сколько строк содержится в этом наборе данных?**"
   ]
  },
  {
   "cell_type": "code",
   "execution_count": 14,
   "metadata": {},
   "outputs": [
    {
     "data": {
      "text/plain": [
       "119390"
      ]
     },
     "execution_count": 14,
     "metadata": {},
     "output_type": "execute_result"
    }
   ],
   "source": [
    "hotels.shape[0]"
   ]
  },
  {
   "cell_type": "code",
   "execution_count": null,
   "metadata": {},
   "outputs": [
    {
     "data": {
      "text/plain": [
       "119390"
      ]
     },
     "metadata": {},
     "output_type": "display_data"
    }
   ],
   "source": []
  },
  {
   "cell_type": "markdown",
   "metadata": {},
   "source": [
    "**ЗАДАНИЕ: Есть ли отсутствующие (пропущенные) данные? Если да, то в какой колонке их больше всего?**"
   ]
  },
  {
   "cell_type": "code",
   "execution_count": 15,
   "metadata": {},
   "outputs": [
    {
     "name": "stdout",
     "output_type": "stream",
     "text": [
      "hotel                                  0\n",
      "is_canceled                            0\n",
      "lead_time                              0\n",
      "arrival_date_year                      0\n",
      "arrival_date_month                     0\n",
      "arrival_date_week_number               0\n",
      "arrival_date_day_of_month              0\n",
      "stays_in_weekend_nights                0\n",
      "stays_in_week_nights                   0\n",
      "adults                                 0\n",
      "children                               4\n",
      "babies                                 0\n",
      "meal                                   0\n",
      "country                              488\n",
      "market_segment                         0\n",
      "distribution_channel                   0\n",
      "is_repeated_guest                      0\n",
      "previous_cancellations                 0\n",
      "previous_bookings_not_canceled         0\n",
      "reserved_room_type                     0\n",
      "assigned_room_type                     0\n",
      "booking_changes                        0\n",
      "deposit_type                           0\n",
      "agent                              16340\n",
      "company                           112593\n",
      "days_in_waiting_list                   0\n",
      "customer_type                          0\n",
      "adr                                    0\n",
      "required_car_parking_spaces            0\n",
      "total_of_special_requests              0\n",
      "reservation_status                     0\n",
      "reservation_status_date                0\n",
      "name                                   0\n",
      "email                                  0\n",
      "phone-number                           0\n",
      "credit_card                            0\n",
      "dtype: int64\n",
      "company\n"
     ]
    }
   ],
   "source": [
    "print(hotels.isna().sum())\n",
    "print(hotels.isna().sum().idxmax())"
   ]
  },
  {
   "cell_type": "code",
   "execution_count": null,
   "metadata": {},
   "outputs": [
    {
     "data": {
      "text/plain": [
       "hotel                                  0\n",
       "is_canceled                            0\n",
       "lead_time                              0\n",
       "arrival_date_year                      0\n",
       "arrival_date_month                     0\n",
       "arrival_date_week_number               0\n",
       "arrival_date_day_of_month              0\n",
       "stays_in_weekend_nights                0\n",
       "stays_in_week_nights                   0\n",
       "adults                                 0\n",
       "children                               4\n",
       "babies                                 0\n",
       "meal                                   0\n",
       "country                              488\n",
       "market_segment                         0\n",
       "distribution_channel                   0\n",
       "is_repeated_guest                      0\n",
       "previous_cancellations                 0\n",
       "previous_bookings_not_canceled         0\n",
       "reserved_room_type                     0\n",
       "assigned_room_type                     0\n",
       "booking_changes                        0\n",
       "deposit_type                           0\n",
       "agent                              16340\n",
       "company                           112593\n",
       "days_in_waiting_list                   0\n",
       "customer_type                          0\n",
       "adr                                    0\n",
       "required_car_parking_spaces            0\n",
       "total_of_special_requests              0\n",
       "reservation_status                     0\n",
       "reservation_status_date                0\n",
       "name                                   0\n",
       "email                                  0\n",
       "phone-number                           0\n",
       "credit_card                            0\n",
       "dtype: int64"
      ]
     },
     "metadata": {},
     "output_type": "display_data"
    }
   ],
   "source": []
  },
  {
   "cell_type": "markdown",
   "metadata": {},
   "source": [
    "**ЗАДАНИЕ: Удалите колонку \"company\" из набора данных.**"
   ]
  },
  {
   "cell_type": "code",
   "execution_count": 17,
   "metadata": {},
   "outputs": [],
   "source": [
    "if 'company' in hotels.columns:\n",
    "    hotels = hotels.drop(columns=['company'])"
   ]
  },
  {
   "cell_type": "markdown",
   "metadata": {},
   "source": [
    "**ЗАДАНИЕ: Какие 5 стран встречаются в наборе данных наиболее часто?**"
   ]
  },
  {
   "cell_type": "code",
   "execution_count": 18,
   "metadata": {},
   "outputs": [
    {
     "name": "stdout",
     "output_type": "stream",
     "text": [
      "country\n",
      "PRT    48590\n",
      "GBR    12129\n",
      "FRA    10415\n",
      "ESP     8568\n",
      "DEU     7287\n",
      "Name: count, dtype: int64\n"
     ]
    }
   ],
   "source": [
    "\n",
    "country_counts = hotels['country'].value_counts()\n",
    "top_5_countries = country_counts.head(5)\n",
    "print(top_5_countries)"
   ]
  },
  {
   "cell_type": "code",
   "execution_count": null,
   "metadata": {},
   "outputs": [
    {
     "data": {
      "text/plain": [
       "PRT    48590\n",
       "GBR    12129\n",
       "FRA    10415\n",
       "ESP     8568\n",
       "DEU     7287\n",
       "Name: country, dtype: int64"
      ]
     },
     "metadata": {},
     "output_type": "display_data"
    }
   ],
   "source": []
  },
  {
   "cell_type": "markdown",
   "metadata": {},
   "source": [
    "**ЗАДАНИЕ: Выведите имя человека, который заплатил наибольшую сумму за одни сутки (ADR - average daily rate)? Какое было значение этого ADR?**"
   ]
  },
  {
   "cell_type": "code",
   "execution_count": null,
   "metadata": {},
   "outputs": [
    {
     "name": "stdout",
     "output_type": "stream",
     "text": [
      "Daniel Walter\n",
      "5400.0\n"
     ]
    }
   ],
   "source": [
    "max_adr_index = hotels['adr'].idxmax()\n",
    "max_adr_person = hotels.loc[max_adr_index, 'name']\n",
    "max_adr_value = hotels.loc[max_adr_index, 'adr']\n",
    "print(f\"{max_adr_person}\") \n",
    "print(f\"{max_adr_value}\")\n",
    "#не поняла, что такое было значение этого адр, извините..."
   ]
  },
  {
   "cell_type": "code",
   "execution_count": null,
   "metadata": {},
   "outputs": [
    {
     "data": {
      "text/plain": [
       "adr              5400\n",
       "name    Daniel Walter\n",
       "Name: 48515, dtype: object"
      ]
     },
     "metadata": {},
     "output_type": "display_data"
    }
   ],
   "source": []
  },
  {
   "cell_type": "markdown",
   "metadata": {},
   "source": [
    "**ЗАДАНИЕ: adr это средняя сумма за сутки для одного бронирования. Каково будет среднее значение adr для всех бронирований в этом наборе данных?**"
   ]
  },
  {
   "cell_type": "code",
   "execution_count": 24,
   "metadata": {},
   "outputs": [
    {
     "name": "stdout",
     "output_type": "stream",
     "text": [
      "101.83\n"
     ]
    }
   ],
   "source": [
    "print(f\"{hotels.adr.mean():.2f}\")"
   ]
  },
  {
   "cell_type": "code",
   "execution_count": null,
   "metadata": {},
   "outputs": [
    {
     "data": {
      "text/plain": [
       "101.83"
      ]
     },
     "metadata": {},
     "output_type": "display_data"
    }
   ],
   "source": []
  },
  {
   "cell_type": "markdown",
   "metadata": {},
   "source": [
    "**ЗАДАНИЕ: Каково среднее (mean) количество ночей, если сделать усреднение по всем бронированиям? Можете округлить до двух знаков после запятой.**"
   ]
  },
  {
   "cell_type": "code",
   "execution_count": null,
   "metadata": {},
   "outputs": [
    {
     "name": "stdout",
     "output_type": "stream",
     "text": [
      "3.43\n"
     ]
    }
   ],
   "source": [
    "mean_weekend_nights = hotels['stays_in_weekend_nights'].mean()\n",
    "mean_week_nights = hotels['stays_in_week_nights'].mean()\n",
    "total_mean = mean_weekend_nights + mean_week_nights\n",
    "#это могла быть одна строчка, но я выбрала точно не ошибиться...\n",
    "print(f\"{total_mean:.2f}\")"
   ]
  },
  {
   "cell_type": "code",
   "execution_count": null,
   "metadata": {},
   "outputs": [
    {
     "data": {
      "text/plain": [
       "3.43"
      ]
     },
     "metadata": {},
     "output_type": "display_data"
    }
   ],
   "source": []
  },
  {
   "cell_type": "markdown",
   "metadata": {},
   "source": [
    "**ЗАДАНИЕ: Какова средняя общая сумма бронирования в этом наборе данных? Не *среднее за сутки*, а *среднее за бронирование*. Можете округлить до двух знаков после запятой.**"
   ]
  },
  {
   "cell_type": "code",
   "execution_count": 29,
   "metadata": {},
   "outputs": [
    {
     "name": "stdout",
     "output_type": "stream",
     "text": [
      "357.85\n"
     ]
    }
   ],
   "source": [
    "total_booking = hotels['adr'] * (hotels['stays_in_weekend_nights'] + hotels['stays_in_week_nights'])\n",
    "mean = total_booking.mean()\n",
    "\n",
    "print(f\"{mean:.2f}\")"
   ]
  },
  {
   "cell_type": "code",
   "execution_count": null,
   "metadata": {},
   "outputs": [
    {
     "data": {
      "text/plain": [
       "357.85"
      ]
     },
     "metadata": {},
     "output_type": "display_data"
    }
   ],
   "source": []
  },
  {
   "cell_type": "markdown",
   "metadata": {},
   "source": [
    "**ЗАДАНИЕ: Выведите имена и адреса email тех, кто сделал ровно 5 специальных запросов (\"Special Requests\")?**"
   ]
  },
  {
   "cell_type": "code",
   "execution_count": 30,
   "metadata": {},
   "outputs": [
    {
     "data": {
      "text/html": [
       "<div>\n",
       "<style scoped>\n",
       "    .dataframe tbody tr th:only-of-type {\n",
       "        vertical-align: middle;\n",
       "    }\n",
       "\n",
       "    .dataframe tbody tr th {\n",
       "        vertical-align: top;\n",
       "    }\n",
       "\n",
       "    .dataframe thead th {\n",
       "        text-align: right;\n",
       "    }\n",
       "</style>\n",
       "<table border=\"1\" class=\"dataframe\">\n",
       "  <thead>\n",
       "    <tr style=\"text-align: right;\">\n",
       "      <th></th>\n",
       "      <th>name</th>\n",
       "      <th>email</th>\n",
       "    </tr>\n",
       "  </thead>\n",
       "  <tbody>\n",
       "    <tr>\n",
       "      <th>7860</th>\n",
       "      <td>Amanda Harper</td>\n",
       "      <td>Amanda.H66@yahoo.com</td>\n",
       "    </tr>\n",
       "    <tr>\n",
       "      <th>11125</th>\n",
       "      <td>Laura Sanders</td>\n",
       "      <td>Sanders_Laura@hotmail.com</td>\n",
       "    </tr>\n",
       "    <tr>\n",
       "      <th>14596</th>\n",
       "      <td>Tommy Ortiz</td>\n",
       "      <td>Tommy_O@hotmail.com</td>\n",
       "    </tr>\n",
       "    <tr>\n",
       "      <th>14921</th>\n",
       "      <td>Gilbert Miller</td>\n",
       "      <td>Miller.Gilbert@aol.com</td>\n",
       "    </tr>\n",
       "    <tr>\n",
       "      <th>14922</th>\n",
       "      <td>Timothy Torres</td>\n",
       "      <td>TTorres@protonmail.com</td>\n",
       "    </tr>\n",
       "    <tr>\n",
       "      <th>24630</th>\n",
       "      <td>Jennifer Weaver</td>\n",
       "      <td>Jennifer_W@aol.com</td>\n",
       "    </tr>\n",
       "    <tr>\n",
       "      <th>27288</th>\n",
       "      <td>Crystal Horton</td>\n",
       "      <td>Crystal.H@mail.com</td>\n",
       "    </tr>\n",
       "    <tr>\n",
       "      <th>27477</th>\n",
       "      <td>Brittney Burke</td>\n",
       "      <td>Burke_Brittney16@att.com</td>\n",
       "    </tr>\n",
       "    <tr>\n",
       "      <th>29906</th>\n",
       "      <td>Cynthia Cabrera</td>\n",
       "      <td>Cabrera.Cynthia@xfinity.com</td>\n",
       "    </tr>\n",
       "    <tr>\n",
       "      <th>29949</th>\n",
       "      <td>Sarah Floyd</td>\n",
       "      <td>Sarah_F@gmail.com</td>\n",
       "    </tr>\n",
       "    <tr>\n",
       "      <th>32267</th>\n",
       "      <td>Michelle Villa</td>\n",
       "      <td>Michelle.Villa@aol.com</td>\n",
       "    </tr>\n",
       "    <tr>\n",
       "      <th>39027</th>\n",
       "      <td>Nichole Hebert</td>\n",
       "      <td>Hebert.Nichole@gmail.com</td>\n",
       "    </tr>\n",
       "    <tr>\n",
       "      <th>39129</th>\n",
       "      <td>Lindsey Mckenzie</td>\n",
       "      <td>Lindsey.Mckenzie@att.com</td>\n",
       "    </tr>\n",
       "    <tr>\n",
       "      <th>39525</th>\n",
       "      <td>Ashley Edwards</td>\n",
       "      <td>Edwards.Ashley@yahoo.com</td>\n",
       "    </tr>\n",
       "    <tr>\n",
       "      <th>70114</th>\n",
       "      <td>Christopher Torres</td>\n",
       "      <td>Torres.Christopher@gmail.com</td>\n",
       "    </tr>\n",
       "    <tr>\n",
       "      <th>78819</th>\n",
       "      <td>Mrs. Tara Sullivan DVM</td>\n",
       "      <td>Mrs..DVM@xfinity.com</td>\n",
       "    </tr>\n",
       "    <tr>\n",
       "      <th>78820</th>\n",
       "      <td>Michaela Brown</td>\n",
       "      <td>MichaelaBrown@att.com</td>\n",
       "    </tr>\n",
       "    <tr>\n",
       "      <th>78822</th>\n",
       "      <td>Kurt Maldonado MD</td>\n",
       "      <td>KMD15@xfinity.com</td>\n",
       "    </tr>\n",
       "    <tr>\n",
       "      <th>97072</th>\n",
       "      <td>Jason Richardson</td>\n",
       "      <td>Jason.R@zoho.com</td>\n",
       "    </tr>\n",
       "    <tr>\n",
       "      <th>97099</th>\n",
       "      <td>Terri Hurley</td>\n",
       "      <td>THurley@xfinity.com</td>\n",
       "    </tr>\n",
       "    <tr>\n",
       "      <th>97261</th>\n",
       "      <td>Mrs. Caitlin Webb</td>\n",
       "      <td>Mrs._W@comcast.net</td>\n",
       "    </tr>\n",
       "    <tr>\n",
       "      <th>98410</th>\n",
       "      <td>Holly Arroyo</td>\n",
       "      <td>Arroyo_Holly@mail.com</td>\n",
       "    </tr>\n",
       "    <tr>\n",
       "      <th>98674</th>\n",
       "      <td>Denise Campbell</td>\n",
       "      <td>Denise_C@gmail.com</td>\n",
       "    </tr>\n",
       "    <tr>\n",
       "      <th>99887</th>\n",
       "      <td>Michael Smith</td>\n",
       "      <td>Michael.S42@aol.com</td>\n",
       "    </tr>\n",
       "    <tr>\n",
       "      <th>99888</th>\n",
       "      <td>Dr. Trevor Sellers</td>\n",
       "      <td>Dr._S@aol.com</td>\n",
       "    </tr>\n",
       "    <tr>\n",
       "      <th>101569</th>\n",
       "      <td>Kayla Murphy</td>\n",
       "      <td>Kayla.Murphy@yahoo.com</td>\n",
       "    </tr>\n",
       "    <tr>\n",
       "      <th>102061</th>\n",
       "      <td>Taylor Martinez</td>\n",
       "      <td>Taylor.Martinez@hotmail.com</td>\n",
       "    </tr>\n",
       "    <tr>\n",
       "      <th>109511</th>\n",
       "      <td>Charles Wilson</td>\n",
       "      <td>Charles_Wilson@yahoo.com</td>\n",
       "    </tr>\n",
       "    <tr>\n",
       "      <th>109590</th>\n",
       "      <td>Tyler Allison</td>\n",
       "      <td>Tyler.A@protonmail.com</td>\n",
       "    </tr>\n",
       "    <tr>\n",
       "      <th>110082</th>\n",
       "      <td>Matthew Bailey</td>\n",
       "      <td>Matthew_Bailey@aol.com</td>\n",
       "    </tr>\n",
       "    <tr>\n",
       "      <th>110083</th>\n",
       "      <td>Charlotte Acevedo</td>\n",
       "      <td>Charlotte_A@verizon.com</td>\n",
       "    </tr>\n",
       "    <tr>\n",
       "      <th>111909</th>\n",
       "      <td>Darrell Brennan</td>\n",
       "      <td>Brennan_Darrell51@hotmail.com</td>\n",
       "    </tr>\n",
       "    <tr>\n",
       "      <th>111911</th>\n",
       "      <td>Melinda Jensen</td>\n",
       "      <td>MelindaJensen@zoho.com</td>\n",
       "    </tr>\n",
       "    <tr>\n",
       "      <th>113915</th>\n",
       "      <td>Terry Arnold</td>\n",
       "      <td>Arnold.Terry@zoho.com</td>\n",
       "    </tr>\n",
       "    <tr>\n",
       "      <th>114770</th>\n",
       "      <td>Mary Nguyen</td>\n",
       "      <td>Nguyen.Mary@protonmail.com</td>\n",
       "    </tr>\n",
       "    <tr>\n",
       "      <th>114909</th>\n",
       "      <td>Lindsay Cuevas</td>\n",
       "      <td>Lindsay.Cuevas40@mail.com</td>\n",
       "    </tr>\n",
       "    <tr>\n",
       "      <th>116455</th>\n",
       "      <td>Cynthia Hernandez</td>\n",
       "      <td>CynthiaHernandez@xfinity.com</td>\n",
       "    </tr>\n",
       "    <tr>\n",
       "      <th>116457</th>\n",
       "      <td>Angela Hawkins</td>\n",
       "      <td>Angela_H@gmail.com</td>\n",
       "    </tr>\n",
       "    <tr>\n",
       "      <th>118817</th>\n",
       "      <td>Sue Lawson</td>\n",
       "      <td>Sue.L52@comcast.net</td>\n",
       "    </tr>\n",
       "    <tr>\n",
       "      <th>119161</th>\n",
       "      <td>Alyssa Richards</td>\n",
       "      <td>Alyssa_Richards@aol.com</td>\n",
       "    </tr>\n",
       "  </tbody>\n",
       "</table>\n",
       "</div>"
      ],
      "text/plain": [
       "                          name                          email\n",
       "7860             Amanda Harper           Amanda.H66@yahoo.com\n",
       "11125            Laura Sanders      Sanders_Laura@hotmail.com\n",
       "14596              Tommy Ortiz            Tommy_O@hotmail.com\n",
       "14921           Gilbert Miller         Miller.Gilbert@aol.com\n",
       "14922           Timothy Torres         TTorres@protonmail.com\n",
       "24630          Jennifer Weaver             Jennifer_W@aol.com\n",
       "27288           Crystal Horton             Crystal.H@mail.com\n",
       "27477           Brittney Burke       Burke_Brittney16@att.com\n",
       "29906          Cynthia Cabrera    Cabrera.Cynthia@xfinity.com\n",
       "29949              Sarah Floyd              Sarah_F@gmail.com\n",
       "32267           Michelle Villa         Michelle.Villa@aol.com\n",
       "39027           Nichole Hebert       Hebert.Nichole@gmail.com\n",
       "39129         Lindsey Mckenzie       Lindsey.Mckenzie@att.com\n",
       "39525           Ashley Edwards       Edwards.Ashley@yahoo.com\n",
       "70114       Christopher Torres   Torres.Christopher@gmail.com\n",
       "78819   Mrs. Tara Sullivan DVM           Mrs..DVM@xfinity.com\n",
       "78820           Michaela Brown          MichaelaBrown@att.com\n",
       "78822        Kurt Maldonado MD              KMD15@xfinity.com\n",
       "97072         Jason Richardson               Jason.R@zoho.com\n",
       "97099             Terri Hurley            THurley@xfinity.com\n",
       "97261        Mrs. Caitlin Webb             Mrs._W@comcast.net\n",
       "98410             Holly Arroyo          Arroyo_Holly@mail.com\n",
       "98674          Denise Campbell             Denise_C@gmail.com\n",
       "99887            Michael Smith            Michael.S42@aol.com\n",
       "99888       Dr. Trevor Sellers                  Dr._S@aol.com\n",
       "101569            Kayla Murphy         Kayla.Murphy@yahoo.com\n",
       "102061         Taylor Martinez    Taylor.Martinez@hotmail.com\n",
       "109511          Charles Wilson       Charles_Wilson@yahoo.com\n",
       "109590           Tyler Allison         Tyler.A@protonmail.com\n",
       "110082          Matthew Bailey         Matthew_Bailey@aol.com\n",
       "110083       Charlotte Acevedo        Charlotte_A@verizon.com\n",
       "111909         Darrell Brennan  Brennan_Darrell51@hotmail.com\n",
       "111911          Melinda Jensen         MelindaJensen@zoho.com\n",
       "113915            Terry Arnold          Arnold.Terry@zoho.com\n",
       "114770             Mary Nguyen     Nguyen.Mary@protonmail.com\n",
       "114909          Lindsay Cuevas      Lindsay.Cuevas40@mail.com\n",
       "116455       Cynthia Hernandez   CynthiaHernandez@xfinity.com\n",
       "116457          Angela Hawkins             Angela_H@gmail.com\n",
       "118817              Sue Lawson            Sue.L52@comcast.net\n",
       "119161         Alyssa Richards        Alyssa_Richards@aol.com"
      ]
     },
     "execution_count": 30,
     "metadata": {},
     "output_type": "execute_result"
    }
   ],
   "source": [
    "hotels[hotels.total_of_special_requests == 5][['name', 'email']]"
   ]
  },
  {
   "cell_type": "code",
   "execution_count": null,
   "metadata": {},
   "outputs": [
    {
     "data": {
      "text/html": [
       "<div>\n",
       "<style scoped>\n",
       "    .dataframe tbody tr th:only-of-type {\n",
       "        vertical-align: middle;\n",
       "    }\n",
       "\n",
       "    .dataframe tbody tr th {\n",
       "        vertical-align: top;\n",
       "    }\n",
       "\n",
       "    .dataframe thead th {\n",
       "        text-align: right;\n",
       "    }\n",
       "</style>\n",
       "<table border=\"1\" class=\"dataframe\">\n",
       "  <thead>\n",
       "    <tr style=\"text-align: right;\">\n",
       "      <th></th>\n",
       "      <th>name</th>\n",
       "      <th>email</th>\n",
       "    </tr>\n",
       "  </thead>\n",
       "  <tbody>\n",
       "    <tr>\n",
       "      <th>7860</th>\n",
       "      <td>Amanda Harper</td>\n",
       "      <td>Amanda.H66@yahoo.com</td>\n",
       "    </tr>\n",
       "    <tr>\n",
       "      <th>11125</th>\n",
       "      <td>Laura Sanders</td>\n",
       "      <td>Sanders_Laura@hotmail.com</td>\n",
       "    </tr>\n",
       "    <tr>\n",
       "      <th>14596</th>\n",
       "      <td>Tommy Ortiz</td>\n",
       "      <td>Tommy_O@hotmail.com</td>\n",
       "    </tr>\n",
       "    <tr>\n",
       "      <th>14921</th>\n",
       "      <td>Gilbert Miller</td>\n",
       "      <td>Miller.Gilbert@aol.com</td>\n",
       "    </tr>\n",
       "    <tr>\n",
       "      <th>14922</th>\n",
       "      <td>Timothy Torres</td>\n",
       "      <td>TTorres@protonmail.com</td>\n",
       "    </tr>\n",
       "    <tr>\n",
       "      <th>24630</th>\n",
       "      <td>Jennifer Weaver</td>\n",
       "      <td>Jennifer_W@aol.com</td>\n",
       "    </tr>\n",
       "    <tr>\n",
       "      <th>27288</th>\n",
       "      <td>Crystal Horton</td>\n",
       "      <td>Crystal.H@mail.com</td>\n",
       "    </tr>\n",
       "    <tr>\n",
       "      <th>27477</th>\n",
       "      <td>Brittney Burke</td>\n",
       "      <td>Burke_Brittney16@att.com</td>\n",
       "    </tr>\n",
       "    <tr>\n",
       "      <th>29906</th>\n",
       "      <td>Cynthia Cabrera</td>\n",
       "      <td>Cabrera.Cynthia@xfinity.com</td>\n",
       "    </tr>\n",
       "    <tr>\n",
       "      <th>29949</th>\n",
       "      <td>Sarah Floyd</td>\n",
       "      <td>Sarah_F@gmail.com</td>\n",
       "    </tr>\n",
       "    <tr>\n",
       "      <th>32267</th>\n",
       "      <td>Michelle Villa</td>\n",
       "      <td>Michelle.Villa@aol.com</td>\n",
       "    </tr>\n",
       "    <tr>\n",
       "      <th>39027</th>\n",
       "      <td>Nichole Hebert</td>\n",
       "      <td>Hebert.Nichole@gmail.com</td>\n",
       "    </tr>\n",
       "    <tr>\n",
       "      <th>39129</th>\n",
       "      <td>Lindsey Mckenzie</td>\n",
       "      <td>Lindsey.Mckenzie@att.com</td>\n",
       "    </tr>\n",
       "    <tr>\n",
       "      <th>39525</th>\n",
       "      <td>Ashley Edwards</td>\n",
       "      <td>Edwards.Ashley@yahoo.com</td>\n",
       "    </tr>\n",
       "    <tr>\n",
       "      <th>70114</th>\n",
       "      <td>Christopher Torres</td>\n",
       "      <td>Torres.Christopher@gmail.com</td>\n",
       "    </tr>\n",
       "    <tr>\n",
       "      <th>78819</th>\n",
       "      <td>Mrs. Tara Sullivan DVM</td>\n",
       "      <td>Mrs..DVM@xfinity.com</td>\n",
       "    </tr>\n",
       "    <tr>\n",
       "      <th>78820</th>\n",
       "      <td>Michaela Brown</td>\n",
       "      <td>MichaelaBrown@att.com</td>\n",
       "    </tr>\n",
       "    <tr>\n",
       "      <th>78822</th>\n",
       "      <td>Kurt Maldonado MD</td>\n",
       "      <td>KMD15@xfinity.com</td>\n",
       "    </tr>\n",
       "    <tr>\n",
       "      <th>97072</th>\n",
       "      <td>Jason Richardson</td>\n",
       "      <td>Jason.R@zoho.com</td>\n",
       "    </tr>\n",
       "    <tr>\n",
       "      <th>97099</th>\n",
       "      <td>Terri Hurley</td>\n",
       "      <td>THurley@xfinity.com</td>\n",
       "    </tr>\n",
       "    <tr>\n",
       "      <th>97261</th>\n",
       "      <td>Mrs. Caitlin Webb</td>\n",
       "      <td>Mrs._W@comcast.net</td>\n",
       "    </tr>\n",
       "    <tr>\n",
       "      <th>98410</th>\n",
       "      <td>Holly Arroyo</td>\n",
       "      <td>Arroyo_Holly@mail.com</td>\n",
       "    </tr>\n",
       "    <tr>\n",
       "      <th>98674</th>\n",
       "      <td>Denise Campbell</td>\n",
       "      <td>Denise_C@gmail.com</td>\n",
       "    </tr>\n",
       "    <tr>\n",
       "      <th>99887</th>\n",
       "      <td>Michael Smith</td>\n",
       "      <td>Michael.S42@aol.com</td>\n",
       "    </tr>\n",
       "    <tr>\n",
       "      <th>99888</th>\n",
       "      <td>Dr. Trevor Sellers</td>\n",
       "      <td>Dr._S@aol.com</td>\n",
       "    </tr>\n",
       "    <tr>\n",
       "      <th>101569</th>\n",
       "      <td>Kayla Murphy</td>\n",
       "      <td>Kayla.Murphy@yahoo.com</td>\n",
       "    </tr>\n",
       "    <tr>\n",
       "      <th>102061</th>\n",
       "      <td>Taylor Martinez</td>\n",
       "      <td>Taylor.Martinez@hotmail.com</td>\n",
       "    </tr>\n",
       "    <tr>\n",
       "      <th>109511</th>\n",
       "      <td>Charles Wilson</td>\n",
       "      <td>Charles_Wilson@yahoo.com</td>\n",
       "    </tr>\n",
       "    <tr>\n",
       "      <th>109590</th>\n",
       "      <td>Tyler Allison</td>\n",
       "      <td>Tyler.A@protonmail.com</td>\n",
       "    </tr>\n",
       "    <tr>\n",
       "      <th>110082</th>\n",
       "      <td>Matthew Bailey</td>\n",
       "      <td>Matthew_Bailey@aol.com</td>\n",
       "    </tr>\n",
       "    <tr>\n",
       "      <th>110083</th>\n",
       "      <td>Charlotte Acevedo</td>\n",
       "      <td>Charlotte_A@verizon.com</td>\n",
       "    </tr>\n",
       "    <tr>\n",
       "      <th>111909</th>\n",
       "      <td>Darrell Brennan</td>\n",
       "      <td>Brennan_Darrell51@hotmail.com</td>\n",
       "    </tr>\n",
       "    <tr>\n",
       "      <th>111911</th>\n",
       "      <td>Melinda Jensen</td>\n",
       "      <td>MelindaJensen@zoho.com</td>\n",
       "    </tr>\n",
       "    <tr>\n",
       "      <th>113915</th>\n",
       "      <td>Terry Arnold</td>\n",
       "      <td>Arnold.Terry@zoho.com</td>\n",
       "    </tr>\n",
       "    <tr>\n",
       "      <th>114770</th>\n",
       "      <td>Mary Nguyen</td>\n",
       "      <td>Nguyen.Mary@protonmail.com</td>\n",
       "    </tr>\n",
       "    <tr>\n",
       "      <th>114909</th>\n",
       "      <td>Lindsay Cuevas</td>\n",
       "      <td>Lindsay.Cuevas40@mail.com</td>\n",
       "    </tr>\n",
       "    <tr>\n",
       "      <th>116455</th>\n",
       "      <td>Cynthia Hernandez</td>\n",
       "      <td>CynthiaHernandez@xfinity.com</td>\n",
       "    </tr>\n",
       "    <tr>\n",
       "      <th>116457</th>\n",
       "      <td>Angela Hawkins</td>\n",
       "      <td>Angela_H@gmail.com</td>\n",
       "    </tr>\n",
       "    <tr>\n",
       "      <th>118817</th>\n",
       "      <td>Sue Lawson</td>\n",
       "      <td>Sue.L52@comcast.net</td>\n",
       "    </tr>\n",
       "    <tr>\n",
       "      <th>119161</th>\n",
       "      <td>Alyssa Richards</td>\n",
       "      <td>Alyssa_Richards@aol.com</td>\n",
       "    </tr>\n",
       "  </tbody>\n",
       "</table>\n",
       "</div>"
      ],
      "text/plain": [
       "                          name                          email\n",
       "7860             Amanda Harper           Amanda.H66@yahoo.com\n",
       "11125            Laura Sanders      Sanders_Laura@hotmail.com\n",
       "14596              Tommy Ortiz            Tommy_O@hotmail.com\n",
       "14921           Gilbert Miller         Miller.Gilbert@aol.com\n",
       "14922           Timothy Torres         TTorres@protonmail.com\n",
       "24630          Jennifer Weaver             Jennifer_W@aol.com\n",
       "27288           Crystal Horton             Crystal.H@mail.com\n",
       "27477           Brittney Burke       Burke_Brittney16@att.com\n",
       "29906          Cynthia Cabrera    Cabrera.Cynthia@xfinity.com\n",
       "29949              Sarah Floyd              Sarah_F@gmail.com\n",
       "32267           Michelle Villa         Michelle.Villa@aol.com\n",
       "39027           Nichole Hebert       Hebert.Nichole@gmail.com\n",
       "39129         Lindsey Mckenzie       Lindsey.Mckenzie@att.com\n",
       "39525           Ashley Edwards       Edwards.Ashley@yahoo.com\n",
       "70114       Christopher Torres   Torres.Christopher@gmail.com\n",
       "78819   Mrs. Tara Sullivan DVM           Mrs..DVM@xfinity.com\n",
       "78820           Michaela Brown          MichaelaBrown@att.com\n",
       "78822        Kurt Maldonado MD              KMD15@xfinity.com\n",
       "97072         Jason Richardson               Jason.R@zoho.com\n",
       "97099             Terri Hurley            THurley@xfinity.com\n",
       "97261        Mrs. Caitlin Webb             Mrs._W@comcast.net\n",
       "98410             Holly Arroyo          Arroyo_Holly@mail.com\n",
       "98674          Denise Campbell             Denise_C@gmail.com\n",
       "99887            Michael Smith            Michael.S42@aol.com\n",
       "99888       Dr. Trevor Sellers                  Dr._S@aol.com\n",
       "101569            Kayla Murphy         Kayla.Murphy@yahoo.com\n",
       "102061         Taylor Martinez    Taylor.Martinez@hotmail.com\n",
       "109511          Charles Wilson       Charles_Wilson@yahoo.com\n",
       "109590           Tyler Allison         Tyler.A@protonmail.com\n",
       "110082          Matthew Bailey         Matthew_Bailey@aol.com\n",
       "110083       Charlotte Acevedo        Charlotte_A@verizon.com\n",
       "111909         Darrell Brennan  Brennan_Darrell51@hotmail.com\n",
       "111911          Melinda Jensen         MelindaJensen@zoho.com\n",
       "113915            Terry Arnold          Arnold.Terry@zoho.com\n",
       "114770             Mary Nguyen     Nguyen.Mary@protonmail.com\n",
       "114909          Lindsay Cuevas      Lindsay.Cuevas40@mail.com\n",
       "116455       Cynthia Hernandez   CynthiaHernandez@xfinity.com\n",
       "116457          Angela Hawkins             Angela_H@gmail.com\n",
       "118817              Sue Lawson            Sue.L52@comcast.net\n",
       "119161         Alyssa Richards        Alyssa_Richards@aol.com"
      ]
     },
     "metadata": {},
     "output_type": "display_data"
    }
   ],
   "source": []
  },
  {
   "cell_type": "markdown",
   "metadata": {},
   "source": [
    "**ЗАДАНИЕ: Какой процент бронирований классифицированы как бронирования \"повторными гостями\"? (Для этого не следует использовать имя, воспользуйтесь колонкой is_repeated_guest)**"
   ]
  },
  {
   "cell_type": "code",
   "execution_count": 31,
   "metadata": {},
   "outputs": [
    {
     "name": "stdout",
     "output_type": "stream",
     "text": [
      "3.19\n"
     ]
    }
   ],
   "source": [
    "repeated_guests_count = hotels[hotels['is_repeated_guest'] == 1].shape[0]\n",
    "total_guests_count = hotels.shape[0]\n",
    "repeated_percentage = 100 * repeated_guests_count / total_guests_count\n",
    "print(f\"{repeated_percentage:.2f}\")"
   ]
  },
  {
   "cell_type": "code",
   "execution_count": null,
   "metadata": {},
   "outputs": [
    {
     "data": {
      "text/plain": [
       "3.19"
      ]
     },
     "metadata": {},
     "output_type": "display_data"
    }
   ],
   "source": []
  },
  {
   "cell_type": "markdown",
   "metadata": {},
   "source": [
    "**ЗАДАНИЕ: Какие 5 фамилий встречаются в этом наборе данных наиболее часто? Бонусное задание: Можете ли Вы сделать это с помощью одной строки кода в pandas? (Для упрощения задачи можете считать фамилией самое последнее слово в колонке, например для значения \"Caroline Conley MD\" можете в качестве фамилии вывести MD)**"
   ]
  },
  {
   "cell_type": "code",
   "execution_count": 36,
   "metadata": {},
   "outputs": [
    {
     "name": "stdout",
     "output_type": "stream",
     "text": [
      "name\n",
      "Smith       2510\n",
      "Johnson     1998\n",
      "Williams    1628\n",
      "Jones       1441\n",
      "Brown       1433\n",
      "dtype: int64\n"
     ]
    }
   ],
   "source": [
    "print(hotels.groupby(hotels['name'].str.split().str[1]).size().sort_values(ascending=False).head(5))"
   ]
  },
  {
   "cell_type": "code",
   "execution_count": null,
   "metadata": {},
   "outputs": [
    {
     "data": {
      "text/plain": [
       "Smith       2510\n",
       "Johnson     1998\n",
       "Williams    1628\n",
       "Jones       1441\n",
       "Brown       1433\n",
       "Name: name, dtype: int64"
      ]
     },
     "metadata": {},
     "output_type": "display_data"
    }
   ],
   "source": []
  },
  {
   "cell_type": "markdown",
   "metadata": {},
   "source": [
    "**ЗАДАНИЕ: Выведите имена людей, которые бронировали номер для наибольшего количества детей и младенцев? (Отменённые бронирования тоже показывайте, то есть не важно, заехали они по факту в отель или нет - главное, что на момент бронирования номера было указано наибольшее количество детей+младенцев)**"
   ]
  },
  {
   "cell_type": "code",
   "execution_count": 38,
   "metadata": {},
   "outputs": [
    {
     "name": "stdout",
     "output_type": "stream",
     "text": [
      "                  name  adults  total_kids  babies  children\n",
      "328      Jamie Ramirez       2        10.0       0      10.0\n",
      "46619  Nicholas Parker       2        10.0      10       0.0\n",
      "78656    Marc Robinson       1         9.0       9       0.0\n"
     ]
    }
   ],
   "source": [
    "hotels = hotels.assign(total_kids=hotels['babies'] + hotels['children'])\n",
    "sorted_hotels = hotels.sort_values(by='total_kids', ascending=False)\n",
    "top_3_hotels = sorted_hotels[['name', 'adults', 'total_kids', 'babies', 'children']].head(3)\n",
    "print(top_3_hotels)"
   ]
  },
  {
   "cell_type": "code",
   "execution_count": null,
   "metadata": {},
   "outputs": [
    {
     "data": {
      "text/html": [
       "<div>\n",
       "<style scoped>\n",
       "    .dataframe tbody tr th:only-of-type {\n",
       "        vertical-align: middle;\n",
       "    }\n",
       "\n",
       "    .dataframe tbody tr th {\n",
       "        vertical-align: top;\n",
       "    }\n",
       "\n",
       "    .dataframe thead th {\n",
       "        text-align: right;\n",
       "    }\n",
       "</style>\n",
       "<table border=\"1\" class=\"dataframe\">\n",
       "  <thead>\n",
       "    <tr style=\"text-align: right;\">\n",
       "      <th></th>\n",
       "      <th>name</th>\n",
       "      <th>adults</th>\n",
       "      <th>total_kids</th>\n",
       "      <th>babies</th>\n",
       "      <th>children</th>\n",
       "    </tr>\n",
       "  </thead>\n",
       "  <tbody>\n",
       "    <tr>\n",
       "      <th>328</th>\n",
       "      <td>Jamie Ramirez</td>\n",
       "      <td>2</td>\n",
       "      <td>10.0</td>\n",
       "      <td>0</td>\n",
       "      <td>10.0</td>\n",
       "    </tr>\n",
       "    <tr>\n",
       "      <th>46619</th>\n",
       "      <td>Nicholas Parker</td>\n",
       "      <td>2</td>\n",
       "      <td>10.0</td>\n",
       "      <td>10</td>\n",
       "      <td>0.0</td>\n",
       "    </tr>\n",
       "    <tr>\n",
       "      <th>78656</th>\n",
       "      <td>Marc Robinson</td>\n",
       "      <td>1</td>\n",
       "      <td>9.0</td>\n",
       "      <td>9</td>\n",
       "      <td>0.0</td>\n",
       "    </tr>\n",
       "  </tbody>\n",
       "</table>\n",
       "</div>"
      ],
      "text/plain": [
       "                  name  adults  total_kids  babies  children\n",
       "328      Jamie Ramirez       2        10.0       0      10.0\n",
       "46619  Nicholas Parker       2        10.0      10       0.0\n",
       "78656    Marc Robinson       1         9.0       9       0.0"
      ]
     },
     "metadata": {},
     "output_type": "display_data"
    }
   ],
   "source": []
  },
  {
   "cell_type": "markdown",
   "metadata": {},
   "source": [
    "**ЗАДАНИЕ: Какие 3 кода области (это первые три цифры телефона) встречаются в наборе данных наиболее часто?**"
   ]
  },
  {
   "cell_type": "code",
   "execution_count": 39,
   "metadata": {},
   "outputs": [
    {
     "name": "stdout",
     "output_type": "stream",
     "text": [
      "code  count\n",
      " 799    168\n",
      " 185    167\n",
      " 541    166\n"
     ]
    }
   ],
   "source": [
    "hotels = hotels.assign(code=hotels['phone-number'].str.split('-').str[0])\n",
    "counts = (\n",
    "    hotels\n",
    "    .groupby('code')\n",
    "    .size()\n",
    "    .reset_index(name='count')\n",
    "    .sort_values(by='count', ascending=False)\n",
    "    .head(3)\n",
    ")\n",
    "print(counts.to_string(index=False))"
   ]
  },
  {
   "cell_type": "code",
   "execution_count": null,
   "metadata": {},
   "outputs": [
    {
     "name": "stdout",
     "output_type": "stream",
     "text": [
      "Code - Total Count\n"
     ]
    },
    {
     "data": {
      "text/plain": [
       "799    168\n",
       "185    167\n",
       "541    166\n",
       "Name: phone-number, dtype: int64"
      ]
     },
     "metadata": {},
     "output_type": "display_data"
    }
   ],
   "source": []
  },
  {
   "cell_type": "markdown",
   "metadata": {},
   "source": [
    "**ЗАДАНИЕ: Сколько людей заселились в отель между 1м и 15м числами месяца (включая 1 и 15)? Бонусное задание: можете ли Вы сделать это с помощью одной строки кода в pandas?**"
   ]
  },
  {
   "cell_type": "code",
   "execution_count": 40,
   "metadata": {},
   "outputs": [
    {
     "name": "stdout",
     "output_type": "stream",
     "text": [
      "58152\n"
     ]
    }
   ],
   "source": [
    "filtered_hotels = hotels.query('1 <= arrival_date_day_of_month <= 15')\n",
    "count_of_arrivals = filtered_hotels['arrival_date_day_of_month'].shape[0]\n",
    "print(count_of_arrivals)"
   ]
  },
  {
   "cell_type": "code",
   "execution_count": null,
   "metadata": {},
   "outputs": [
    {
     "data": {
      "text/plain": [
       "58152"
      ]
     },
     "metadata": {},
     "output_type": "display_data"
    }
   ],
   "source": []
  },
  {
   "cell_type": "markdown",
   "metadata": {
    "id": "Kcmlt70bZdU4"
   },
   "source": [
    "## Дополнительное задание: **Свой собственный Github репрезиторий** (2 балла)\n",
    "\n",
    "***\n",
    "\n",
    "Чтобы получить дополнительные баллы, вам необходимо создать собственный гитхаб репрезиторий, загрузить в него домашнее задание и прикрепить ссылку на него сюда. Можно также прикрепить ссылку мне в личные сообщения вместе с файлом.\n",
    "\n",
    "**Порядок действий:**\n",
    "1) Создайте репризиторий гит на гитхабе\n",
    "2) Склонируйте репрезиторий к себе на компьютер (это должна быть папка, где нет другого репрезитория, то есть где нет файла .git)\n",
    "3) На компьютере создайте новое виртуальное окружение, в котором будете работать. Установите все нужные для работы библиотеки. \n",
    "4) Можно выполнять дз или если вы уже сделали перенесите файл с дз в папку.\n",
    "4) Создайте файл .gitignore и добавьте в него виртуальное окружение (о .gitignore можно почитать в интернете, [например](https://ru.hexlet.io/courses/intro_to_git/lessons/gitignore/theory_unit))\n",
    "5) Создайте файл requirements.txt\n",
    "6) Загрузите все файлы в репрезиторий Git\n",
    "7) Поздравляю с вашим первым репрезиторием! (ну может не первым...)\n",
    "\n",
    "**В репрезитории должны быть следующие файлы:**\n",
    "\n",
    "- Файл домашнего задания\n",
    "- README.md с небольшой пояснительным текстом, что это за репрезиторий.\n",
    "- requirements.txt\n",
    "- лицензия MIT\n",
    "- .gitignore\n",
    "\n",
    "Если не очень понимаете что нужно делать, гугл вам в помощь! "
   ]
  },
  {
   "cell_type": "markdown",
   "metadata": {},
   "source": []
  }
 ],
 "metadata": {
  "colab": {
   "provenance": []
  },
  "kernelspec": {
   "display_name": "Python 3",
   "language": "python",
   "name": "python3"
  },
  "language_info": {
   "codemirror_mode": {
    "name": "ipython",
    "version": 3
   },
   "file_extension": ".py",
   "mimetype": "text/x-python",
   "name": "python",
   "nbconvert_exporter": "python",
   "pygments_lexer": "ipython3",
   "version": "3.11.9"
  }
 },
 "nbformat": 4,
 "nbformat_minor": 0
}
